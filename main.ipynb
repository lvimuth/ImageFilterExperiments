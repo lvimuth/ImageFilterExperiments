{
 "cells": [
  {
   "cell_type": "code",
   "execution_count": 1,
   "metadata": {},
   "outputs": [],
   "source": [
    "import cv2\n",
    "import numpy as np\n",
    "from matplotlib import pyplot as plt"
   ]
  },
  {
   "cell_type": "code",
   "execution_count": 2,
   "metadata": {},
   "outputs": [],
   "source": [
    "def apply_filters(image):\n",
    "    filters = {\n",
    "        'Original': image,\n",
    "        'Blur': cv2.GaussianBlur(image, (15, 15), 0),\n",
    "        'Median Blur': cv2.medianBlur(image, 15),\n",
    "        'Bilateral Filter': cv2.bilateralFilter(image, 9, 75, 75),\n",
    "        'Sharpen': cv2.filter2D(image, -1, np.array([[0, -1, 0], [-1, 5,-1], [0, -1, 0]])),\n",
    "        'Edge Detection': cv2.Canny(image, 100, 200),\n",
    "        'Emboss': cv2.filter2D(image, -1, np.array([[2, 0, 0], [0, -1, 0], [0, 0, -1]])),\n",
    "        'Sepia': cv2.transform(image, np.matrix([[0.272, 0.534, 0.131],\n",
    "                                                 [0.349, 0.686, 0.168],\n",
    "                                                 [0.393, 0.769, 0.189]])),\n",
    "        'Negative': cv2.bitwise_not(image),\n",
    "        'Grayscale': cv2.cvtColor(image, cv2.COLOR_BGR2GRAY),\n",
    "        'Brightness Increase': cv2.convertScaleAbs(image, alpha=1.2, beta=30),\n",
    "        'Brightness Decrease': cv2.convertScaleAbs(image, alpha=0.8, beta=-30),\n",
    "        'Contrast Increase': cv2.convertScaleAbs(image, alpha=2.0, beta=0),\n",
    "        'Contrast Decrease': cv2.convertScaleAbs(image, alpha=0.5, beta=0),\n",
    "        'Adaptive Threshold': cv2.adaptiveThreshold(cv2.cvtColor(image, cv2.COLOR_BGR2GRAY), 255,\n",
    "                                                    cv2.ADAPTIVE_THRESH_GAUSSIAN_C, cv2.THRESH_BINARY, 11, 2),\n",
    "        'Dilation': cv2.dilate(cv2.cvtColor(image, cv2.COLOR_BGR2GRAY), np.ones((5, 5), np.uint8), iterations=1),\n",
    "        'Erosion': cv2.erode(cv2.cvtColor(image, cv2.COLOR_BGR2GRAY), np.ones((5, 5), np.uint8), iterations=1),\n",
    "        'Opening': cv2.morphologyEx(cv2.cvtColor(image, cv2.COLOR_BGR2GRAY), cv2.MORPH_OPEN, np.ones((5, 5), np.uint8)),\n",
    "        'Closing': cv2.morphologyEx(cv2.cvtColor(image, cv2.COLOR_BGR2GRAY), cv2.MORPH_CLOSE, np.ones((5, 5), np.uint8)),\n",
    "        'Tophat': cv2.morphologyEx(cv2.cvtColor(image, cv2.COLOR_BGR2GRAY), cv2.MORPH_TOPHAT, np.ones((5, 5), np.uint8)),\n",
    "        'Blackhat': cv2.morphologyEx(cv2.cvtColor(image, cv2.COLOR_BGR2GRAY), cv2.MORPH_BLACKHAT, np.ones((5, 5), np.uint8))\n",
    "    }\n",
    "    return filters"
   ]
  },
  {
   "cell_type": "code",
   "execution_count": 3,
   "metadata": {},
   "outputs": [],
   "source": [
    "def display_images(images_dict):\n",
    "    plt.figure(figsize=(20, 20))\n",
    "    for i, (title, image) in enumerate(images_dict.items()):\n",
    "        plt.subplot(5, 4, i+1)\n",
    "        if len(image.shape) == 2:\n",
    "            plt.imshow(image, cmap='gray')\n",
    "        else:\n",
    "            plt.imshow(cv2.cvtColor(image, cv2.COLOR_BGR2RGB))\n",
    "        plt.title(title)\n",
    "        plt.axis('off')\n",
    "    plt.tight_layout()\n",
    "    plt.show()"
   ]
  },
  {
   "cell_type": "code",
   "execution_count": null,
   "metadata": {},
   "outputs": [],
   "source": [
    "\n",
    "# Load your image\n",
    "image_path = 'path/to/your/image.jpg'\n",
    "image = cv2.imread(image_path)\n",
    "\n",
    "# Apply filters\n",
    "filtered_images = apply_filters(image)\n",
    "\n",
    "# Display images\n",
    "display_images(filtered_images)\n"
   ]
  }
 ],
 "metadata": {
  "kernelspec": {
   "display_name": "Python 3",
   "language": "python",
   "name": "python3"
  },
  "language_info": {
   "codemirror_mode": {
    "name": "ipython",
    "version": 3
   },
   "file_extension": ".py",
   "mimetype": "text/x-python",
   "name": "python",
   "nbconvert_exporter": "python",
   "pygments_lexer": "ipython3",
   "version": "3.10.10"
  }
 },
 "nbformat": 4,
 "nbformat_minor": 2
}
